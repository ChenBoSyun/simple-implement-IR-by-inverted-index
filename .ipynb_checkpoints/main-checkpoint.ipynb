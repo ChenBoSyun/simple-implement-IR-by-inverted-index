{
 "cells": [
  {
   "cell_type": "code",
   "execution_count": 1,
   "metadata": {
    "collapsed": true
   },
   "outputs": [],
   "source": [
    "import re\n",
    "import csv"
   ]
  },
  {
   "cell_type": "code",
   "execution_count": 28,
   "metadata": {
    "collapsed": true
   },
   "outputs": [],
   "source": [
    "class Search_engine:\n",
    "    def __init__(self):\n",
    "        self.__word_index = {} #\n",
    "    def build_index(self , article):\n",
    "        regex = r'([a-zA-Z]+)'\n",
    "        x = 0\n",
    "        with open(article, encoding=\"utf-8-sig\") as csvfile:\n",
    "            spamreader = csv.reader(csvfile)\n",
    "            for line in spamreader:\n",
    "\n",
    "                string = re.sub(r'[^\\w]','',line[1])\n",
    "                \n",
    "                en_list = re.findall(regex,line[1])\n",
    "                for word in en_list:\n",
    "                    if word not in self.__word_index:\n",
    "                        self.__word_index[word] = []\n",
    "                    if line[0] not in self.__word_index[word]:\n",
    "                        self.__word_index[word].append(line[0])\n",
    "\n",
    "                for n in range(2,4):\n",
    "                    for i in range(len(string)-n+1):\n",
    "                        if string[i:i+n] not in self.__word_index:\n",
    "                            self.__word_index[string[i:i+n]] = []\n",
    "                        if line[0] not in self.__word_index[string[i:i+n]]:\n",
    "                            self.__word_index[string[i:i+n]].append(line[0])\n",
    "\n",
    "                            \n",
    "    def search(self , s_type , query_l):\n",
    "        query_l = [set(self.__word_index[x]) for x in query_l]\n",
    "        if s_type == \"and\":\n",
    "            s = query_l[0]\n",
    "            for i in query_l[1:]:\n",
    "                s = set.intersection(s,i)\n",
    "        elif s_type == \"or\":\n",
    "            s = query_l[0]\n",
    "            for i in query_l[1:]:\n",
    "                s = set.union(s,i)\n",
    "        elif s_type == \"not\":\n",
    "            s = query_l[0]\n",
    "            for i in query_l[1:]:\n",
    "                s = set.difference(s,i)\n",
    "        return s"
   ]
  },
  {
   "cell_type": "code",
   "execution_count": 6,
   "metadata": {},
   "outputs": [
    {
     "name": "stderr",
     "output_type": "stream",
     "text": [
      "usage: ipykernel_launcher.py [-h] [--source SOURCE] [--query QUERY]\n",
      "                             [--output OUTPUT]\n",
      "ipykernel_launcher.py: error: unrecognized arguments: -f C:\\Users\\k12s35h813g\\AppData\\Roaming\\jupyter\\runtime\\kernel-9f2ed185-650e-43ea-8718-4935ee7dcd66.json\n"
     ]
    },
    {
     "ename": "SystemExit",
     "evalue": "2",
     "output_type": "error",
     "traceback": [
      "An exception has occurred, use %tb to see the full traceback.\n",
      "\u001b[1;31mSystemExit\u001b[0m\u001b[1;31m:\u001b[0m 2\n"
     ]
    },
    {
     "name": "stderr",
     "output_type": "stream",
     "text": [
      "C:\\ProgramData\\Anaconda3\\lib\\site-packages\\IPython\\core\\interactiveshell.py:2870: UserWarning: To exit: use 'exit', 'quit', or Ctrl-D.\n",
      "  warn(\"To exit: use 'exit', 'quit', or Ctrl-D.\", stacklevel=1)\n"
     ]
    }
   ],
   "source": [
    "if __name__ == '__main__':\n",
    "    # You should not modify this part.\n",
    "    import argparse\n",
    "    parser = argparse.ArgumentParser()\n",
    "    parser.add_argument('--source',\n",
    "                        default='source.csv',\n",
    "                        help='input source data file name')\n",
    "    parser.add_argument('--query',\n",
    "                        default='query.txt',\n",
    "                        help='query file name')\n",
    "    parser.add_argument('--output',\n",
    "                            default='output.txt',\n",
    "                            help='output file name')\n",
    "    args = parser.parse_args() \n",
    "    \n",
    "    article = args.source\n",
    "    query = args.query\n",
    "    output = args.output\n",
    "    \n",
    "    search_engine = Search_engine()\n",
    "    search_engine.build_index(article)\n",
    "    \n",
    "    with open(output, 'w') as out_file, open(query, 'r', encoding='utf-8') as query_file:\n",
    "        lines = query_file.readlines()\n",
    "        last = lines[-1].strip()\n",
    "        for line in lines:\n",
    "            line = line.strip()\n",
    "            query = re.sub(r\"\\s+\", \"\", line, flags=re.UNICODE)\n",
    "            \n",
    "            if query.find(\"and\") != -1:\n",
    "                s_type = \"and\"\n",
    "                query_l = query.split(\"and\")\n",
    "            elif query.find(\"or\") != -1:\n",
    "                s_type = \"or\"\n",
    "                query_l = query.split(\"or\")\n",
    "            elif query.find(\"not\") != -1:\n",
    "                s_type = \"not\"\n",
    "                query_l = query.split(\"not\")\n",
    "            \n",
    "            result = list(search_engine.search(s_type, query_l))\n",
    "            if result:\n",
    "                for i in range(len(result)):\n",
    "                    out_file.write(\"%s\" % result[i])\n",
    "                    if i != len(result)-1:\n",
    "                        out_file.write(\",\")\n",
    "            else:\n",
    "                out_file.write(\"0\")\n",
    "                \n",
    "            if line != last:\n",
    "                out_file.write(\"\\n\")\n",
    "        \n",
    "    "
   ]
  },
  {
   "cell_type": "code",
   "execution_count": null,
   "metadata": {
    "collapsed": true
   },
   "outputs": [],
   "source": []
  }
 ],
 "metadata": {
  "kernelspec": {
   "display_name": "Python 3",
   "language": "python",
   "name": "python3"
  },
  "language_info": {
   "codemirror_mode": {
    "name": "ipython",
    "version": 3
   },
   "file_extension": ".py",
   "mimetype": "text/x-python",
   "name": "python",
   "nbconvert_exporter": "python",
   "pygments_lexer": "ipython3",
   "version": "3.6.2"
  }
 },
 "nbformat": 4,
 "nbformat_minor": 2
}
