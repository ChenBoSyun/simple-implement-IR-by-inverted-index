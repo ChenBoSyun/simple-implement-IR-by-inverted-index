{
 "cells": [
  {
   "cell_type": "markdown",
   "metadata": {},
   "source": [
    "# 簡易資料索引"
   ]
  },
  {
   "cell_type": "markdown",
   "metadata": {},
   "source": [
    "---------------------"
   ]
  },
  {
   "cell_type": "markdown",
   "metadata": {},
   "source": [
    "## 方法"
   ]
  },
  {
   "cell_type": "markdown",
   "metadata": {},
   "source": [
    "-------------------------------------------------"
   ]
  },
  {
   "cell_type": "markdown",
   "metadata": {},
   "source": [
    "中文詞彙 : 使用 2-gram , 3-gram\n",
    "<br>\n",
    "<br>\n",
    "英文單字 : 使用regular expression [a-zA-Z]+\n",
    "<br>\n",
    "<br>\n",
    "使用該方法原因:\n",
    "<br>\n",
    "比起jieba，我認為這個作業如果要求的是100%準確度的話，N-gram的方法會比較適合，再加上作業需求有規定中文字會用2-gram 3-gram\n",
    "<br>\n",
    "不過一般情況jieba斷詞會比較通用"
   ]
  }
 ],
 "metadata": {
  "kernelspec": {
   "display_name": "Python 3",
   "language": "python",
   "name": "python3"
  },
  "language_info": {
   "codemirror_mode": {
    "name": "ipython",
    "version": 3
   },
   "file_extension": ".py",
   "mimetype": "text/x-python",
   "name": "python",
   "nbconvert_exporter": "python",
   "pygments_lexer": "ipython3",
   "version": "3.6.2"
  }
 },
 "nbformat": 4,
 "nbformat_minor": 2
}
